{
  "nbformat": 4,
  "nbformat_minor": 0,
  "metadata": {
    "colab": {
      "name": "newtrainer.ipynb",
      "provenance": [],
      "collapsed_sections": [],
      "authorship_tag": "ABX9TyND7z0NvemlqBuSRE7C5ejn",
      "include_colab_link": true
    },
    "kernelspec": {
      "name": "python3",
      "display_name": "Python 3"
    },
    "language_info": {
      "name": "python"
    }
  },
  "cells": [
    {
      "cell_type": "markdown",
      "metadata": {
        "id": "view-in-github",
        "colab_type": "text"
      },
      "source": [
        "<a href=\"https://colab.research.google.com/github/BARANIDHARAN-S-Git/htmlfirst/blob/master/newtrainer.ipynb\" target=\"_parent\"><img src=\"https://colab.research.google.com/assets/colab-badge.svg\" alt=\"Open In Colab\"/></a>"
      ]
    },
    {
      "cell_type": "code",
      "metadata": {
        "id": "TN1ehKswvj6A"
      },
      "source": [
        "import cv2\n",
        "import numpy as np\n",
        "from PIL import Image\n",
        "import os\n",
        "# Path for face image database\n",
        "path = 'newDataset'\n",
        "recognizer = cv2.face.LBPHFaceRecognizer_create()\n",
        "detector = cv2.CascadeClassifier(\"haarcascade_frontalface_default.xml\");\n",
        "# function to get the images and label data\n",
        "def getImagesAndLabels(path):\n",
        "    imagePaths = [os.path.join(path,f) for f in os.listdir(path)]\n",
        "    faceSamples=[]\n",
        "    ids = []\n",
        "    for imagePath in imagePaths:\n",
        "        PIL_img = Image.open(imagePath).convert('L') # grayscale\n",
        "        img_numpy = np.array(PIL_img,'uint8')\n",
        "        id = int(os.path.split(imagePath)[-1].split(\".\")[1])\n",
        "        faces = detector.detectMultiScale(img_numpy)\n",
        "        for (x,y,w,h) in faces:\n",
        "            faceSamples.append(img_numpy[y:y+h,x:x+w])\n",
        "            ids.append(id)\n",
        "    return faceSamples,ids\n",
        "print (\"\\n [INFO] Training faces. It will take a few seconds. Wait ...\")\n",
        "faces,ids = getImagesAndLabels(path)\n",
        "recognizer.train(faces, np.array(ids))\n",
        "# Save the model into trainer/trainer.yml\n",
        "recognizer.write('newtrainer.yml')\n",
        "# Print the numer of faces trained and end program\n",
        "print(\"\\n [INFO] {0} faces trained. Exiting Program\".format(len(np.unique(ids))))"
      ],
      "execution_count": null,
      "outputs": []
    }
  ]
}