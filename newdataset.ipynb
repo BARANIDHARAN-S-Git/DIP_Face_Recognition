{
  "nbformat": 4,
  "nbformat_minor": 0,
  "metadata": {
    "colab": {
      "name": "newdataset.ipynb",
      "provenance": [],
      "collapsed_sections": [],
      "authorship_tag": "ABX9TyN4LpT+e/bsgECE/EHstXHz",
      "include_colab_link": true
    },
    "kernelspec": {
      "name": "python3",
      "display_name": "Python 3"
    },
    "language_info": {
      "name": "python"
    }
  },
  "cells": [
    {
      "cell_type": "markdown",
      "metadata": {
        "id": "view-in-github",
        "colab_type": "text"
      },
      "source": [
        "<a href=\"https://colab.research.google.com/github/BARANIDHARAN-S-Git/DIP_Face_Recognition/blob/master/newdataset.ipynb\" target=\"_parent\"><img src=\"https://colab.research.google.com/assets/colab-badge.svg\" alt=\"Open In Colab\"/></a>"
      ]
    },
    {
      "cell_type": "code",
      "metadata": {
        "id": "0xIrqp5NvLUw"
      },
      "source": [
        "import cv2\n",
        "import os\n",
        "# Call the built-in camera of the notebook, so the parameter is 0. If there are other cameras, you can adjust the parameter to 1, 2\n",
        "os.environ['DISPLAY'] = ':0'\n",
        "cap = cv2.VideoCapture(0)\n",
        "# Cascade classifier is a cascaded classifier for face detection in Opencv\n",
        "face_detector = cv2.CascadeClassifier('haarcascade_frontalface_default.xml')\n",
        "\n",
        "face_id = input('\\n enter user id:')\n",
        "\n",
        "print('\\n Initializing face capture. Look at the camera and wait ...')\n",
        "\n",
        "count = 0\n",
        "\n",
        "while True:\n",
        "\n",
        "    # Read pictures from camera\n",
        "\n",
        "    sucess, img = cap.read()\n",
        "\n",
        "    # Turn to grayscale picture\n",
        "\n",
        "    gray = cv2.cvtColor(img, cv2.COLOR_BGR2GRAY)\n",
        "\n",
        "    # Face detection\n",
        "\n",
        "    faces = face_detector.detectMultiScale(gray, 1.3, 5)\n",
        "\n",
        "    for (x, y, w, h) in faces:\n",
        "        cv2.rectangle(img, (x, y), (x+w, y+w), (255, 0, 0))\n",
        "        count += 1\n",
        "\n",
        "        # Save image\n",
        "        cv2.imwrite(\"newDataset/User.\" + str(face_id) + '.' + str(count) + '.jpg', gray[y: y + h, x: x + w])\n",
        "\n",
        "        cv2.imshow('image', img)\n",
        "\n",
        "    # Keep the picture going.\n",
        "\n",
        "    k = cv2.waitKey(1)\n",
        "\n",
        "    if k == 27:   # Exit camera by esc key\n",
        "        break\n",
        "\n",
        "    elif count >= 1000:  # Get 1000 samples and exit the camera\n",
        "        break\n",
        "\n",
        "# Turn off camera\n",
        "cap.release()\n",
        "cv2.destroyAllWindows()"
      ],
      "execution_count": null,
      "outputs": []
    }
  ]
}